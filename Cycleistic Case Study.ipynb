{
 "cells": [
  {
   "cell_type": "markdown",
   "id": "91518113",
   "metadata": {},
   "source": [
    "## Case:\n",
    "As a data analyst working in the marketing analyst team at Cyclistic, a bike-share company. The director\n",
    "of marketing believes the company’s future success depends on maximizing the number of annual memberships. Therefore,\n",
    "your team wants to understand **how casual riders and annual members use Cyclistic bikes differently**. From these insights,\n",
    "your team will design a **new marketing strategy to convert casual riders into annual members**. But first, Cyclistic executives\n",
    "must approve your recommendations, so they must be backed up with compelling data insights and professional data\n",
    "visualizations.\n",
    "\n",
    "- Casual riders consist of customers that purchase single-ride or full-day passes.\n",
    "- Annual members subscribe yearly for unlimited biking access."
   ]
  },
  {
   "cell_type": "markdown",
   "id": "425f057e",
   "metadata": {},
   "source": [
    "### Scope:\n",
    "1. Define and discuss the project(Ask)\n",
    "2. Extract and prepare the data for exploration(Prepare)\n",
    "3. Process the data for analysis(Process)\n",
    "4. Conduct a descriptive analysis(Analyze)\n",
    "5. Share key findings(Share)\n",
    "6. Act on key findings(Act)"
   ]
  },
  {
   "cell_type": "markdown",
   "id": "3470cfaf",
   "metadata": {},
   "source": [
    "## Problem Statement\n",
    "\n",
    "Cyclistic is faced with an uncertain future and is no longer able to solely rely on its traditional marketing strategies of raising general awareness and appealing to a variety of customer needs. In the interest of company growth, the director of marketing believes that Cyclistic should capitalize on the profit margins of annual subscribers by marketing to existing casual customers and converting them to become yearly subscribers. If that strategy is plausible, a well-executed marketing campaign may lead to more sustainable long-term revenue. To that end, we need to analyze how and **why Cyclistic casual bikers and members differ to weigh any evidence, opportunities, and barriers to any future marketing strategy**."
   ]
  },
  {
   "cell_type": "markdown",
   "id": "1e5cf1fe",
   "metadata": {},
   "source": [
    "# Deliverable: Define and discuss the project\n",
    "\n",
    "- 5,824 bicycles and 692 docking stations\n",
    "- More than 50% of riders select traditional bikes\n",
    "- 8% of riders opt for the assistive bike options\n",
    "- 30% of users bike to commute to work each day\n",
    "- Users are more likely to ride for leisure\n",
    "- Casual riders have chosen Cyclistic for their mobility needs"
   ]
  },
  {
   "cell_type": "markdown",
   "id": "562901e9",
   "metadata": {},
   "source": [
    "# Deliverable: Prepare the data for exploration\n",
    "\n",
    "## Preprocessing Scope\n",
    "\n",
    "- Choosing a dataset, outlining the data's location and how it's organized\n",
    "- Determining if the data meets analysis standards (ROCCC - Reliable, Original, Comprehensive, Current, and Credible)\n",
    "- Verifying the data's integrity \n",
    "- Identifying how the data helps answer the questions being asked\n",
    "- Filtering and sorting the data\n",
    "\n",
    "## Data Source and Organization\n",
    "\n",
    "The data we'll be using was extracted from (https://divvy-tripdata.s3.amazonaws.com/index.html. This data is made available by Motivate International Inc.\n",
    "\n",
    "The data available to us consists of a repository made up primarily of quantitative measurements collected over time. Each data point represents a single bike trip from one docking station to the next.\n",
    "\n",
    "Assuming that executives are unwilling to commit additional resources and time to collect more data, we will do our best with the data currently on hand.\n",
    "\n",
    "We'll be examining a period of 12 months, from the start of June 2020 to the end of May 2021. Each month has a separate comma-separated value file with the same headings. Each record consists of a bike trip under the bike-sharing program composed of several features: a unique  ID serving as the table's primary key to identify each bike trip, the type of bike used, the type of customer (casual or member), details about the starting and ending docking station (name, ID, latitude, and longitude) and the DateTime for when the bike was picked up and dropped off.   \n",
    "\n",
    "## Data Quality Assessment\n",
    "\n",
    "- Reliable:\n",
    "\n",
    "|Reliability issues|Description|\n",
    "|:----------------:|:----------|\n",
    "|Validity|Minimal constraints were imposed on formatting and range, resulting in issues like end datetimes starting before<br>start datetimes, stations having multiple ids, ids belonging to several stations, and formatting changes over time|\n",
    "|Incomplete|7%% of records have one or more missing values|\n",
    "|Duplicates|There are hundreds of duplicate primary keys, but each instance is unique|\n",
    "\n",
    "\n",
    "- Original: \n",
    "\n",
    "The data was sourced by a first-party group (motivate international inc.) using their resources without any third-party intervention.\n",
    "\n",
    "- Comprehensiveness:\n",
    "\n",
    "This data set is comprehensive enough for our inquiry and is mostly free of human error.\n",
    "\n",
    "- Current:\n",
    "\n",
    "The time frame we're examining gives us an up-to-date view (as of the time this study was written).\n",
    "\n",
    "- Vetted:\n",
    "\n",
    "Based on our initial investigations, most recorded bike trips are accurate and free of any notable errors.\n",
    "\n",
    "## Ethical Concerns\n",
    "\n",
    "- Security: The data is in a cloud repository that is managed by authorized Motivate employees and is secure by a trusted and well known global cloud services provider.\n",
    "\n",
    "- Accessibility: All of Cyclistic's bike ride records are open to the public with minimal constraint\n",
    "\n",
    "- Privacy: Data does not contain any private information\n",
    "\n",
    "- Credibility: The data is based on fact and no manual intervention visibile at first glance.\n",
    "\n",
    "\n",
    "## Data Purpose \n",
    "\n",
    "To discover trends and actionable insights that reveal how Cyclistic bikes are used by different user types.\n",
    "\n",
    "\n",
    "## Assumptions:\n",
    "\n",
    "We assume that the data collection process was accomplished with integrity. Furthermore, we move forward with this analysis under the assumption that the data is free of any glaring inaccuracies, bias, and credibility issues. We also assume that the original repository has never been accessed or modified in an unauthorized manner. "
   ]
  },
  {
   "cell_type": "code",
   "execution_count": 17,
   "id": "304b3dbb",
   "metadata": {},
   "outputs": [],
   "source": [
    "#Loading required libraries for data handling, viz,formatiing\n",
    "import pandas as pd\n",
    "import matplotlib.pyplot as plt\n",
    "import numpy as np\n",
    "import seaborn as sns\n",
    "import datetime\n",
    "import warnings\n",
    "warnings.filterwarnings(\"ignore\")\n",
    "%matplotlib inline"
   ]
  },
  {
   "cell_type": "code",
   "execution_count": 2,
   "id": "f0ad576b",
   "metadata": {},
   "outputs": [],
   "source": [
    "#As we have 12 months of data getting the data into seperate data frames. Later we might combine them for proper analysis\n",
    "june_2020_df = pd.read_csv(\"./data/202006-divvy-tripdata.csv\")\n",
    "july_2020_df = pd.read_csv(\"./data/202007-divvy-tripdata.csv\")\n",
    "august_2020_df = pd.read_csv(\"./data/202008-divvy-tripdata.csv\")\n",
    "september_2020_df = pd.read_csv(\"./data/202009-divvy-tripdata.csv\")\n",
    "october_2020_df = pd.read_csv(\"./data/202010-divvy-tripdata.csv\")\n",
    "november_2020_df = pd.read_csv(\"./data/202011-divvy-tripdata.csv\")\n",
    "december_2020_df = pd.read_csv(\"./data/202012-divvy-tripdata.csv\")\n",
    "january_2021_df = pd.read_csv(\"./data/202101-divvy-tripdata.csv\")\n",
    "february_2021_df = pd.read_csv(\"./data/202102-divvy-tripdata.csv\")\n",
    "march_2021_df = pd.read_csv(\"./data/202103-divvy-tripdata.csv\")\n",
    "april_2021_df = pd.read_csv(\"./data/202104-divvy-tripdata.csv\")\n",
    "may_2021_df = pd.read_csv(\"./data/202105-divvy-tripdata.csv\")"
   ]
  },
  {
   "cell_type": "code",
   "execution_count": 3,
   "id": "3281876b",
   "metadata": {},
   "outputs": [],
   "source": [
    "frames = [\n",
    "    june_2020_df,\n",
    "    july_2020_df,\n",
    "    august_2020_df,\n",
    "    september_2020_df,\n",
    "    october_2020_df,\n",
    "    november_2020_df,\n",
    "    december_2020_df,\n",
    "    january_2021_df,\n",
    "    february_2021_df,\n",
    "    march_2021_df,\n",
    "    april_2021_df,\n",
    "    may_2021_df,\n",
    "]"
   ]
  },
  {
   "cell_type": "markdown",
   "id": "a5c16f3f",
   "metadata": {},
   "source": [
    "### Check number of columns for all the dataframes\n",
    "### This step is necessary as it informs whether and how the dataframes can be joined. If there are diffenece in number of columns we might have to make the similar."
   ]
  },
  {
   "cell_type": "code",
   "execution_count": 4,
   "id": "d39bda07",
   "metadata": {},
   "outputs": [
    {
     "name": "stdout",
     "output_type": "stream",
     "text": [
      "[13, 13, 13, 13, 13, 13, 13, 13, 13, 13, 13, 13]\n",
      "Index(['ride_id', 'rideable_type', 'started_at', 'ended_at',\n",
      "       'start_station_name', 'start_station_id', 'end_station_name',\n",
      "       'end_station_id', 'start_lat', 'start_lng', 'end_lat', 'end_lng',\n",
      "       'member_casual'],\n",
      "      dtype='object')\n"
     ]
    }
   ],
   "source": [
    "num_cols = []\n",
    "\n",
    "\n",
    "def verify_num_of_cols(frames):\n",
    "    for frame in frames:\n",
    "        num_cols.append(len(frame.columns))\n",
    "    return num_cols\n",
    "\n",
    "print(verify_num_of_cols(frames=frames))\n",
    "# Here, we establish that each dataframe has 13 columns\n",
    "# By inspecting the columns manually, we discover that they are appropriately named\n",
    "# across the dataframes\n",
    "\n",
    "# Create a single dataframe that combines the 12 dataframes\n",
    "df = pd.concat(frames, axis=0, ignore_index=True)\n",
    "print(df.columns)"
   ]
  },
  {
   "cell_type": "code",
   "execution_count": 5,
   "id": "00ab502e",
   "metadata": {},
   "outputs": [
    {
     "data": {
      "text/html": [
       "<div>\n",
       "<style scoped>\n",
       "    .dataframe tbody tr th:only-of-type {\n",
       "        vertical-align: middle;\n",
       "    }\n",
       "\n",
       "    .dataframe tbody tr th {\n",
       "        vertical-align: top;\n",
       "    }\n",
       "\n",
       "    .dataframe thead th {\n",
       "        text-align: right;\n",
       "    }\n",
       "</style>\n",
       "<table border=\"1\" class=\"dataframe\">\n",
       "  <thead>\n",
       "    <tr style=\"text-align: right;\">\n",
       "      <th></th>\n",
       "      <th>ride_id</th>\n",
       "      <th>rideable_type</th>\n",
       "      <th>started_at</th>\n",
       "      <th>ended_at</th>\n",
       "      <th>start_station_name</th>\n",
       "      <th>start_station_id</th>\n",
       "      <th>end_station_name</th>\n",
       "      <th>end_station_id</th>\n",
       "      <th>start_lat</th>\n",
       "      <th>start_lng</th>\n",
       "      <th>end_lat</th>\n",
       "      <th>end_lng</th>\n",
       "      <th>member_casual</th>\n",
       "    </tr>\n",
       "  </thead>\n",
       "  <tbody>\n",
       "    <tr>\n",
       "      <th>0</th>\n",
       "      <td>8CD5DE2C2B6C4CFC</td>\n",
       "      <td>docked_bike</td>\n",
       "      <td>2020-06-13 23:24:48</td>\n",
       "      <td>2020-06-13 23:36:55</td>\n",
       "      <td>Wilton Ave &amp; Belmont Ave</td>\n",
       "      <td>117</td>\n",
       "      <td>Damen Ave &amp; Clybourn Ave</td>\n",
       "      <td>163.0</td>\n",
       "      <td>41.940180</td>\n",
       "      <td>-87.653040</td>\n",
       "      <td>41.931931</td>\n",
       "      <td>-87.677856</td>\n",
       "      <td>casual</td>\n",
       "    </tr>\n",
       "    <tr>\n",
       "      <th>1</th>\n",
       "      <td>9A191EB2C751D85D</td>\n",
       "      <td>docked_bike</td>\n",
       "      <td>2020-06-26 07:26:10</td>\n",
       "      <td>2020-06-26 07:31:58</td>\n",
       "      <td>Federal St &amp; Polk St</td>\n",
       "      <td>41</td>\n",
       "      <td>Daley Center Plaza</td>\n",
       "      <td>81.0</td>\n",
       "      <td>41.872077</td>\n",
       "      <td>-87.629543</td>\n",
       "      <td>41.884241</td>\n",
       "      <td>-87.629634</td>\n",
       "      <td>member</td>\n",
       "    </tr>\n",
       "    <tr>\n",
       "      <th>2</th>\n",
       "      <td>F37D14B0B5659BCF</td>\n",
       "      <td>docked_bike</td>\n",
       "      <td>2020-06-23 17:12:41</td>\n",
       "      <td>2020-06-23 17:21:14</td>\n",
       "      <td>Daley Center Plaza</td>\n",
       "      <td>81</td>\n",
       "      <td>State St &amp; Harrison St</td>\n",
       "      <td>5.0</td>\n",
       "      <td>41.884241</td>\n",
       "      <td>-87.629634</td>\n",
       "      <td>41.874053</td>\n",
       "      <td>-87.627716</td>\n",
       "      <td>member</td>\n",
       "    </tr>\n",
       "    <tr>\n",
       "      <th>3</th>\n",
       "      <td>C41237B506E85FA1</td>\n",
       "      <td>docked_bike</td>\n",
       "      <td>2020-06-20 01:09:35</td>\n",
       "      <td>2020-06-20 01:28:24</td>\n",
       "      <td>Broadway &amp; Cornelia Ave</td>\n",
       "      <td>303</td>\n",
       "      <td>Broadway &amp; Berwyn Ave</td>\n",
       "      <td>294.0</td>\n",
       "      <td>41.945529</td>\n",
       "      <td>-87.646439</td>\n",
       "      <td>41.978353</td>\n",
       "      <td>-87.659753</td>\n",
       "      <td>casual</td>\n",
       "    </tr>\n",
       "    <tr>\n",
       "      <th>4</th>\n",
       "      <td>4B51B3B0BDA7787C</td>\n",
       "      <td>docked_bike</td>\n",
       "      <td>2020-06-25 16:59:25</td>\n",
       "      <td>2020-06-25 17:08:48</td>\n",
       "      <td>Sheffield Ave &amp; Webster Ave</td>\n",
       "      <td>327</td>\n",
       "      <td>Wilton Ave &amp; Belmont Ave</td>\n",
       "      <td>117.0</td>\n",
       "      <td>41.921540</td>\n",
       "      <td>-87.653818</td>\n",
       "      <td>41.940180</td>\n",
       "      <td>-87.653040</td>\n",
       "      <td>casual</td>\n",
       "    </tr>\n",
       "    <tr>\n",
       "      <th>5</th>\n",
       "      <td>D50DF288196B53BE</td>\n",
       "      <td>docked_bike</td>\n",
       "      <td>2020-06-17 18:07:18</td>\n",
       "      <td>2020-06-17 18:18:14</td>\n",
       "      <td>Sheffield Ave &amp; Webster Ave</td>\n",
       "      <td>327</td>\n",
       "      <td>Wilton Ave &amp; Belmont Ave</td>\n",
       "      <td>117.0</td>\n",
       "      <td>41.921540</td>\n",
       "      <td>-87.653818</td>\n",
       "      <td>41.940180</td>\n",
       "      <td>-87.653040</td>\n",
       "      <td>casual</td>\n",
       "    </tr>\n",
       "    <tr>\n",
       "      <th>6</th>\n",
       "      <td>165FA6D223E58600</td>\n",
       "      <td>docked_bike</td>\n",
       "      <td>2020-06-25 07:24:33</td>\n",
       "      <td>2020-06-25 07:31:11</td>\n",
       "      <td>Federal St &amp; Polk St</td>\n",
       "      <td>41</td>\n",
       "      <td>Daley Center Plaza</td>\n",
       "      <td>81.0</td>\n",
       "      <td>41.872077</td>\n",
       "      <td>-87.629543</td>\n",
       "      <td>41.884241</td>\n",
       "      <td>-87.629634</td>\n",
       "      <td>member</td>\n",
       "    </tr>\n",
       "    <tr>\n",
       "      <th>7</th>\n",
       "      <td>D8236CFC050E591C</td>\n",
       "      <td>docked_bike</td>\n",
       "      <td>2020-06-19 00:00:56</td>\n",
       "      <td>2020-06-19 00:09:15</td>\n",
       "      <td>Sheffield Ave &amp; Wellington Ave</td>\n",
       "      <td>115</td>\n",
       "      <td>Broadway &amp; Cornelia Ave</td>\n",
       "      <td>303.0</td>\n",
       "      <td>41.936266</td>\n",
       "      <td>-87.652662</td>\n",
       "      <td>41.945529</td>\n",
       "      <td>-87.646439</td>\n",
       "      <td>casual</td>\n",
       "    </tr>\n",
       "    <tr>\n",
       "      <th>8</th>\n",
       "      <td>9D82B9B53C37C55C</td>\n",
       "      <td>docked_bike</td>\n",
       "      <td>2020-06-30 12:11:36</td>\n",
       "      <td>2020-06-30 12:32:43</td>\n",
       "      <td>Calumet Ave &amp; 18th St</td>\n",
       "      <td>338</td>\n",
       "      <td>Franklin St &amp; Lake St</td>\n",
       "      <td>164.0</td>\n",
       "      <td>41.857611</td>\n",
       "      <td>-87.619407</td>\n",
       "      <td>41.885837</td>\n",
       "      <td>-87.635500</td>\n",
       "      <td>member</td>\n",
       "    </tr>\n",
       "    <tr>\n",
       "      <th>9</th>\n",
       "      <td>3DFF4AB10A6895A3</td>\n",
       "      <td>docked_bike</td>\n",
       "      <td>2020-06-28 14:17:09</td>\n",
       "      <td>2020-06-28 14:27:51</td>\n",
       "      <td>Milwaukee Ave &amp; Grand Ave</td>\n",
       "      <td>84</td>\n",
       "      <td>Wells St &amp; Huron St</td>\n",
       "      <td>53.0</td>\n",
       "      <td>41.891578</td>\n",
       "      <td>-87.648384</td>\n",
       "      <td>41.894722</td>\n",
       "      <td>-87.634362</td>\n",
       "      <td>member</td>\n",
       "    </tr>\n",
       "  </tbody>\n",
       "</table>\n",
       "</div>"
      ],
      "text/plain": [
       "            ride_id rideable_type           started_at             ended_at  \\\n",
       "0  8CD5DE2C2B6C4CFC   docked_bike  2020-06-13 23:24:48  2020-06-13 23:36:55   \n",
       "1  9A191EB2C751D85D   docked_bike  2020-06-26 07:26:10  2020-06-26 07:31:58   \n",
       "2  F37D14B0B5659BCF   docked_bike  2020-06-23 17:12:41  2020-06-23 17:21:14   \n",
       "3  C41237B506E85FA1   docked_bike  2020-06-20 01:09:35  2020-06-20 01:28:24   \n",
       "4  4B51B3B0BDA7787C   docked_bike  2020-06-25 16:59:25  2020-06-25 17:08:48   \n",
       "5  D50DF288196B53BE   docked_bike  2020-06-17 18:07:18  2020-06-17 18:18:14   \n",
       "6  165FA6D223E58600   docked_bike  2020-06-25 07:24:33  2020-06-25 07:31:11   \n",
       "7  D8236CFC050E591C   docked_bike  2020-06-19 00:00:56  2020-06-19 00:09:15   \n",
       "8  9D82B9B53C37C55C   docked_bike  2020-06-30 12:11:36  2020-06-30 12:32:43   \n",
       "9  3DFF4AB10A6895A3   docked_bike  2020-06-28 14:17:09  2020-06-28 14:27:51   \n",
       "\n",
       "               start_station_name start_station_id          end_station_name  \\\n",
       "0        Wilton Ave & Belmont Ave              117  Damen Ave & Clybourn Ave   \n",
       "1            Federal St & Polk St               41        Daley Center Plaza   \n",
       "2              Daley Center Plaza               81    State St & Harrison St   \n",
       "3         Broadway & Cornelia Ave              303     Broadway & Berwyn Ave   \n",
       "4     Sheffield Ave & Webster Ave              327  Wilton Ave & Belmont Ave   \n",
       "5     Sheffield Ave & Webster Ave              327  Wilton Ave & Belmont Ave   \n",
       "6            Federal St & Polk St               41        Daley Center Plaza   \n",
       "7  Sheffield Ave & Wellington Ave              115   Broadway & Cornelia Ave   \n",
       "8           Calumet Ave & 18th St              338     Franklin St & Lake St   \n",
       "9       Milwaukee Ave & Grand Ave               84       Wells St & Huron St   \n",
       "\n",
       "  end_station_id  start_lat  start_lng    end_lat    end_lng member_casual  \n",
       "0          163.0  41.940180 -87.653040  41.931931 -87.677856        casual  \n",
       "1           81.0  41.872077 -87.629543  41.884241 -87.629634        member  \n",
       "2            5.0  41.884241 -87.629634  41.874053 -87.627716        member  \n",
       "3          294.0  41.945529 -87.646439  41.978353 -87.659753        casual  \n",
       "4          117.0  41.921540 -87.653818  41.940180 -87.653040        casual  \n",
       "5          117.0  41.921540 -87.653818  41.940180 -87.653040        casual  \n",
       "6           81.0  41.872077 -87.629543  41.884241 -87.629634        member  \n",
       "7          303.0  41.936266 -87.652662  41.945529 -87.646439        casual  \n",
       "8          164.0  41.857611 -87.619407  41.885837 -87.635500        member  \n",
       "9           53.0  41.891578 -87.648384  41.894722 -87.634362        member  "
      ]
     },
     "execution_count": 5,
     "metadata": {},
     "output_type": "execute_result"
    }
   ],
   "source": [
    "# Summary of the data\n",
    "df.head(10)"
   ]
  },
  {
   "cell_type": "code",
   "execution_count": 6,
   "id": "253c1736",
   "metadata": {},
   "outputs": [
    {
     "name": "stdout",
     "output_type": "stream",
     "text": [
      "<class 'pandas.core.frame.DataFrame'>\n",
      "RangeIndex: 4073561 entries, 0 to 4073560\n",
      "Data columns (total 13 columns):\n",
      " #   Column              Dtype  \n",
      "---  ------              -----  \n",
      " 0   ride_id             object \n",
      " 1   rideable_type       object \n",
      " 2   started_at          object \n",
      " 3   ended_at            object \n",
      " 4   start_station_name  object \n",
      " 5   start_station_id    object \n",
      " 6   end_station_name    object \n",
      " 7   end_station_id      object \n",
      " 8   start_lat           float64\n",
      " 9   start_lng           float64\n",
      " 10  end_lat             float64\n",
      " 11  end_lng             float64\n",
      " 12  member_casual       object \n",
      "dtypes: float64(4), object(9)\n",
      "memory usage: 404.0+ MB\n",
      "None\n"
     ]
    }
   ],
   "source": [
    "print(df.info())"
   ]
  },
  {
   "cell_type": "markdown",
   "id": "c4eff5bb",
   "metadata": {},
   "source": [
    "#### We have 13 columns and we can infer their content:\n",
    "1. ride_id: Id for each trip taken, as of now we are not sure if they are unique or not, we have to find out\n",
    "2. rideable_type: Represents the type of a bike\n",
    "3. started_at: Date and time of the start time\n",
    "4. ended_at: Date and time of the end time\n",
    "5. start_station_name: Name of the starting station\n",
    "6. start_station_id: Id of the starting station\n",
    "7. end_station_name: Name of the ending station\n",
    "8. end_station_id: Id of the ending station\n",
    "9. start_lat: Latitude of the starting point\n",
    "10. start_lng: Longitude of the starting point\n",
    "11. end_lat: Latitude of the ending point\n",
    "12. end_lng: Longitude of the ending point\n",
    "13. member_casual: Represents the membership status'''"
   ]
  },
  {
   "cell_type": "markdown",
   "id": "bdb19ac9",
   "metadata": {},
   "source": [
    "# DATA CLEANING"
   ]
  },
  {
   "cell_type": "code",
   "execution_count": 7,
   "id": "248ed659",
   "metadata": {},
   "outputs": [
    {
     "data": {
      "text/plain": [
       "ride_id                    0\n",
       "rideable_type              0\n",
       "started_at                 0\n",
       "ended_at                   0\n",
       "start_station_name    201975\n",
       "start_station_id      202601\n",
       "end_station_name      229190\n",
       "end_station_id        229651\n",
       "start_lat                  0\n",
       "start_lng                  0\n",
       "end_lat                 5037\n",
       "end_lng                 5037\n",
       "member_casual              0\n",
       "dtype: int64"
      ]
     },
     "execution_count": 7,
     "metadata": {},
     "output_type": "execute_result"
    }
   ],
   "source": [
    "# First we need to establish which columns and rows have missing data\n",
    "# Columns with missing values\n",
    "df.isnull().sum()"
   ]
  },
  {
   "cell_type": "code",
   "execution_count": 8,
   "id": "9f64b472",
   "metadata": {},
   "outputs": [
    {
     "data": {
      "text/html": [
       "<div>\n",
       "<style scoped>\n",
       "    .dataframe tbody tr th:only-of-type {\n",
       "        vertical-align: middle;\n",
       "    }\n",
       "\n",
       "    .dataframe tbody tr th {\n",
       "        vertical-align: top;\n",
       "    }\n",
       "\n",
       "    .dataframe thead th {\n",
       "        text-align: right;\n",
       "    }\n",
       "</style>\n",
       "<table border=\"1\" class=\"dataframe\">\n",
       "  <thead>\n",
       "    <tr style=\"text-align: right;\">\n",
       "      <th></th>\n",
       "      <th>ride_id</th>\n",
       "      <th>rideable_type</th>\n",
       "      <th>started_at</th>\n",
       "      <th>ended_at</th>\n",
       "      <th>start_station_name</th>\n",
       "      <th>start_station_id</th>\n",
       "      <th>end_station_name</th>\n",
       "      <th>end_station_id</th>\n",
       "      <th>start_lat</th>\n",
       "      <th>start_lng</th>\n",
       "      <th>end_lat</th>\n",
       "      <th>end_lng</th>\n",
       "      <th>member_casual</th>\n",
       "    </tr>\n",
       "  </thead>\n",
       "  <tbody>\n",
       "    <tr>\n",
       "      <th>800</th>\n",
       "      <td>8F5DC3FE5B22E480</td>\n",
       "      <td>docked_bike</td>\n",
       "      <td>2020-06-04 07:24:22</td>\n",
       "      <td>2020-06-04 07:58:23</td>\n",
       "      <td>Broadway &amp; Cornelia Ave</td>\n",
       "      <td>303</td>\n",
       "      <td>NaN</td>\n",
       "      <td>NaN</td>\n",
       "      <td>41.945529</td>\n",
       "      <td>-87.646439</td>\n",
       "      <td>NaN</td>\n",
       "      <td>NaN</td>\n",
       "      <td>member</td>\n",
       "    </tr>\n",
       "    <tr>\n",
       "      <th>1266</th>\n",
       "      <td>9358687FAE5EEC17</td>\n",
       "      <td>docked_bike</td>\n",
       "      <td>2020-06-28 13:58:51</td>\n",
       "      <td>2020-06-28 18:23:31</td>\n",
       "      <td>Michigan Ave &amp; Lake St</td>\n",
       "      <td>52</td>\n",
       "      <td>NaN</td>\n",
       "      <td>NaN</td>\n",
       "      <td>41.886024</td>\n",
       "      <td>-87.624117</td>\n",
       "      <td>NaN</td>\n",
       "      <td>NaN</td>\n",
       "      <td>casual</td>\n",
       "    </tr>\n",
       "    <tr>\n",
       "      <th>2354</th>\n",
       "      <td>5399B46884E18D40</td>\n",
       "      <td>docked_bike</td>\n",
       "      <td>2020-06-21 19:08:51</td>\n",
       "      <td>2020-06-21 20:28:05</td>\n",
       "      <td>Michigan Ave &amp; Lake St</td>\n",
       "      <td>52</td>\n",
       "      <td>NaN</td>\n",
       "      <td>NaN</td>\n",
       "      <td>41.886024</td>\n",
       "      <td>-87.624117</td>\n",
       "      <td>NaN</td>\n",
       "      <td>NaN</td>\n",
       "      <td>member</td>\n",
       "    </tr>\n",
       "    <tr>\n",
       "      <th>2492</th>\n",
       "      <td>EA8792DAAD74C5DA</td>\n",
       "      <td>docked_bike</td>\n",
       "      <td>2020-06-04 08:46:31</td>\n",
       "      <td>2020-06-04 10:09:18</td>\n",
       "      <td>Indiana Ave &amp; Roosevelt Rd</td>\n",
       "      <td>255</td>\n",
       "      <td>NaN</td>\n",
       "      <td>NaN</td>\n",
       "      <td>41.867888</td>\n",
       "      <td>-87.623041</td>\n",
       "      <td>NaN</td>\n",
       "      <td>NaN</td>\n",
       "      <td>casual</td>\n",
       "    </tr>\n",
       "    <tr>\n",
       "      <th>2957</th>\n",
       "      <td>69D0294D7C1727E8</td>\n",
       "      <td>docked_bike</td>\n",
       "      <td>2020-06-17 09:51:33</td>\n",
       "      <td>2020-06-17 10:18:26</td>\n",
       "      <td>Clarendon Ave &amp; Junior Ter</td>\n",
       "      <td>245</td>\n",
       "      <td>NaN</td>\n",
       "      <td>NaN</td>\n",
       "      <td>41.961004</td>\n",
       "      <td>-87.649603</td>\n",
       "      <td>NaN</td>\n",
       "      <td>NaN</td>\n",
       "      <td>member</td>\n",
       "    </tr>\n",
       "    <tr>\n",
       "      <th>...</th>\n",
       "      <td>...</td>\n",
       "      <td>...</td>\n",
       "      <td>...</td>\n",
       "      <td>...</td>\n",
       "      <td>...</td>\n",
       "      <td>...</td>\n",
       "      <td>...</td>\n",
       "      <td>...</td>\n",
       "      <td>...</td>\n",
       "      <td>...</td>\n",
       "      <td>...</td>\n",
       "      <td>...</td>\n",
       "      <td>...</td>\n",
       "    </tr>\n",
       "    <tr>\n",
       "      <th>4073554</th>\n",
       "      <td>A87018C1286BE8FC</td>\n",
       "      <td>electric_bike</td>\n",
       "      <td>2021-05-11 22:46:53</td>\n",
       "      <td>2021-05-11 22:51:22</td>\n",
       "      <td>Sheridan Rd &amp; Montrose Ave</td>\n",
       "      <td>TA1307000107</td>\n",
       "      <td>NaN</td>\n",
       "      <td>NaN</td>\n",
       "      <td>41.961660</td>\n",
       "      <td>-87.654696</td>\n",
       "      <td>41.95</td>\n",
       "      <td>-87.65</td>\n",
       "      <td>member</td>\n",
       "    </tr>\n",
       "    <tr>\n",
       "      <th>4073555</th>\n",
       "      <td>D0B8E59E2B3C406D</td>\n",
       "      <td>electric_bike</td>\n",
       "      <td>2021-05-02 17:48:17</td>\n",
       "      <td>2021-05-02 17:52:19</td>\n",
       "      <td>Blackstone Ave &amp; Hyde Park Blvd</td>\n",
       "      <td>13398</td>\n",
       "      <td>NaN</td>\n",
       "      <td>NaN</td>\n",
       "      <td>41.802586</td>\n",
       "      <td>-87.590306</td>\n",
       "      <td>41.80</td>\n",
       "      <td>-87.60</td>\n",
       "      <td>member</td>\n",
       "    </tr>\n",
       "    <tr>\n",
       "      <th>4073556</th>\n",
       "      <td>EF56D7D1D612AC11</td>\n",
       "      <td>electric_bike</td>\n",
       "      <td>2021-05-20 16:32:14</td>\n",
       "      <td>2021-05-20 16:35:39</td>\n",
       "      <td>Blackstone Ave &amp; Hyde Park Blvd</td>\n",
       "      <td>13398</td>\n",
       "      <td>NaN</td>\n",
       "      <td>NaN</td>\n",
       "      <td>41.802581</td>\n",
       "      <td>-87.590230</td>\n",
       "      <td>41.80</td>\n",
       "      <td>-87.60</td>\n",
       "      <td>member</td>\n",
       "    </tr>\n",
       "    <tr>\n",
       "      <th>4073558</th>\n",
       "      <td>428575BAA5356BFF</td>\n",
       "      <td>electric_bike</td>\n",
       "      <td>2021-05-31 14:24:54</td>\n",
       "      <td>2021-05-31 14:31:38</td>\n",
       "      <td>Sheridan Rd &amp; Montrose Ave</td>\n",
       "      <td>TA1307000107</td>\n",
       "      <td>NaN</td>\n",
       "      <td>NaN</td>\n",
       "      <td>41.961525</td>\n",
       "      <td>-87.654651</td>\n",
       "      <td>41.95</td>\n",
       "      <td>-87.65</td>\n",
       "      <td>member</td>\n",
       "    </tr>\n",
       "    <tr>\n",
       "      <th>4073559</th>\n",
       "      <td>FC8A4A7AB7249662</td>\n",
       "      <td>electric_bike</td>\n",
       "      <td>2021-05-25 16:01:33</td>\n",
       "      <td>2021-05-25 16:07:37</td>\n",
       "      <td>Sheridan Rd &amp; Montrose Ave</td>\n",
       "      <td>TA1307000107</td>\n",
       "      <td>NaN</td>\n",
       "      <td>NaN</td>\n",
       "      <td>41.961654</td>\n",
       "      <td>-87.654721</td>\n",
       "      <td>41.98</td>\n",
       "      <td>-87.66</td>\n",
       "      <td>member</td>\n",
       "    </tr>\n",
       "  </tbody>\n",
       "</table>\n",
       "<p>314299 rows × 13 columns</p>\n",
       "</div>"
      ],
      "text/plain": [
       "                  ride_id  rideable_type           started_at  \\\n",
       "800      8F5DC3FE5B22E480    docked_bike  2020-06-04 07:24:22   \n",
       "1266     9358687FAE5EEC17    docked_bike  2020-06-28 13:58:51   \n",
       "2354     5399B46884E18D40    docked_bike  2020-06-21 19:08:51   \n",
       "2492     EA8792DAAD74C5DA    docked_bike  2020-06-04 08:46:31   \n",
       "2957     69D0294D7C1727E8    docked_bike  2020-06-17 09:51:33   \n",
       "...                   ...            ...                  ...   \n",
       "4073554  A87018C1286BE8FC  electric_bike  2021-05-11 22:46:53   \n",
       "4073555  D0B8E59E2B3C406D  electric_bike  2021-05-02 17:48:17   \n",
       "4073556  EF56D7D1D612AC11  electric_bike  2021-05-20 16:32:14   \n",
       "4073558  428575BAA5356BFF  electric_bike  2021-05-31 14:24:54   \n",
       "4073559  FC8A4A7AB7249662  electric_bike  2021-05-25 16:01:33   \n",
       "\n",
       "                    ended_at               start_station_name  \\\n",
       "800      2020-06-04 07:58:23          Broadway & Cornelia Ave   \n",
       "1266     2020-06-28 18:23:31           Michigan Ave & Lake St   \n",
       "2354     2020-06-21 20:28:05           Michigan Ave & Lake St   \n",
       "2492     2020-06-04 10:09:18       Indiana Ave & Roosevelt Rd   \n",
       "2957     2020-06-17 10:18:26       Clarendon Ave & Junior Ter   \n",
       "...                      ...                              ...   \n",
       "4073554  2021-05-11 22:51:22       Sheridan Rd & Montrose Ave   \n",
       "4073555  2021-05-02 17:52:19  Blackstone Ave & Hyde Park Blvd   \n",
       "4073556  2021-05-20 16:35:39  Blackstone Ave & Hyde Park Blvd   \n",
       "4073558  2021-05-31 14:31:38       Sheridan Rd & Montrose Ave   \n",
       "4073559  2021-05-25 16:07:37       Sheridan Rd & Montrose Ave   \n",
       "\n",
       "        start_station_id end_station_name end_station_id  start_lat  \\\n",
       "800                  303              NaN            NaN  41.945529   \n",
       "1266                  52              NaN            NaN  41.886024   \n",
       "2354                  52              NaN            NaN  41.886024   \n",
       "2492                 255              NaN            NaN  41.867888   \n",
       "2957                 245              NaN            NaN  41.961004   \n",
       "...                  ...              ...            ...        ...   \n",
       "4073554     TA1307000107              NaN            NaN  41.961660   \n",
       "4073555            13398              NaN            NaN  41.802586   \n",
       "4073556            13398              NaN            NaN  41.802581   \n",
       "4073558     TA1307000107              NaN            NaN  41.961525   \n",
       "4073559     TA1307000107              NaN            NaN  41.961654   \n",
       "\n",
       "         start_lng  end_lat  end_lng member_casual  \n",
       "800     -87.646439      NaN      NaN        member  \n",
       "1266    -87.624117      NaN      NaN        casual  \n",
       "2354    -87.624117      NaN      NaN        member  \n",
       "2492    -87.623041      NaN      NaN        casual  \n",
       "2957    -87.649603      NaN      NaN        member  \n",
       "...            ...      ...      ...           ...  \n",
       "4073554 -87.654696    41.95   -87.65        member  \n",
       "4073555 -87.590306    41.80   -87.60        member  \n",
       "4073556 -87.590230    41.80   -87.60        member  \n",
       "4073558 -87.654651    41.95   -87.65        member  \n",
       "4073559 -87.654721    41.98   -87.66        member  \n",
       "\n",
       "[314299 rows x 13 columns]"
      ]
     },
     "execution_count": 8,
     "metadata": {},
     "output_type": "execute_result"
    }
   ],
   "source": [
    "# Rows missing values\n",
    "df[df.isnull().any(axis=1)]"
   ]
  },
  {
   "cell_type": "code",
   "execution_count": 9,
   "id": "14593ae2",
   "metadata": {},
   "outputs": [
    {
     "name": "stdout",
     "output_type": "stream",
     "text": [
      "ride_id                      8F5DC3FE5B22E480\n",
      "rideable_type                     docked_bike\n",
      "started_at                2020-06-04 07:24:22\n",
      "ended_at                  2020-06-04 07:58:23\n",
      "start_station_name    Broadway & Cornelia Ave\n",
      "start_station_id                          303\n",
      "end_station_name                          NaN\n",
      "end_station_id                            NaN\n",
      "start_lat                           41.945529\n",
      "start_lng                          -87.646439\n",
      "end_lat                                   NaN\n",
      "end_lng                                   NaN\n",
      "member_casual                          member\n",
      "Name: 800, dtype: object\n"
     ]
    }
   ],
   "source": [
    "# Examine the first row with missing values further\n",
    "print(df.iloc[800])"
   ]
  },
  {
   "cell_type": "code",
   "execution_count": 10,
   "id": "70ed17ef",
   "metadata": {},
   "outputs": [
    {
     "name": "stdout",
     "output_type": "stream",
     "text": [
      "Total Null rows: 314299\n"
     ]
    }
   ],
   "source": [
    "sum_of_rows_with_null_values = df.isnull().any(axis=1).sum()\n",
    "print(f\"Total Null rows: {sum_of_rows_with_null_values}\")"
   ]
  },
  {
   "cell_type": "code",
   "execution_count": 11,
   "id": "1855b831",
   "metadata": {},
   "outputs": [
    {
     "name": "stdout",
     "output_type": "stream",
     "text": [
      "PC of null rows: 7.715583490709971\n"
     ]
    }
   ],
   "source": [
    "# Percentage of rows with missing values in the dataset\n",
    "pc_nan_rows = sum_of_rows_with_null_values / df.shape[0] * 100\n",
    "print(f\"PC of null rows: {pc_nan_rows}\")"
   ]
  },
  {
   "cell_type": "code",
   "execution_count": 12,
   "id": "2d7f20dc",
   "metadata": {},
   "outputs": [],
   "source": [
    "# Drop rows with missing data\n",
    "# Since rows with missing data appear to contain more than one missing value and\n",
    "# only account for 7.7% of the dataset, we drop them.\n",
    "# We do not drop the columns because they have less than 5% missing values\n",
    "\n",
    "clean_df = df.dropna(axis=\"index\")\n"
   ]
  },
  {
   "cell_type": "code",
   "execution_count": 13,
   "id": "38e07caa",
   "metadata": {},
   "outputs": [
    {
     "name": "stdout",
     "output_type": "stream",
     "text": [
      "ride_id               0\n",
      "rideable_type         0\n",
      "started_at            0\n",
      "ended_at              0\n",
      "start_station_name    0\n",
      "start_station_id      0\n",
      "end_station_name      0\n",
      "end_station_id        0\n",
      "start_lat             0\n",
      "start_lng             0\n",
      "end_lat               0\n",
      "end_lng               0\n",
      "member_casual         0\n",
      "dtype: int64\n"
     ]
    }
   ],
   "source": [
    "# Check if new df has any missing values\n",
    "# This step confirms that the data has no missing values\n",
    "print(clean_df.isnull().sum())"
   ]
  },
  {
   "cell_type": "code",
   "execution_count": 14,
   "id": "3558c762",
   "metadata": {},
   "outputs": [
    {
     "name": "stdout",
     "output_type": "stream",
     "text": [
      "Duplicate rows: 0\n"
     ]
    }
   ],
   "source": [
    "# Check if any ID's are duplicate\n",
    "total_duplicate_rows = clean_df.duplicated().sum()\n",
    "print(f\"Duplicate rows: {total_duplicate_rows}\")"
   ]
  },
  {
   "cell_type": "code",
   "execution_count": 15,
   "id": "c5f780a8",
   "metadata": {},
   "outputs": [
    {
     "name": "stdout",
     "output_type": "stream",
     "text": [
      "            ride_id rideable_type           started_at             ended_at  \\\n",
      "0  8CD5DE2C2B6C4CFC   docked_bike  2020-06-13 23:24:48  2020-06-13 23:36:55   \n",
      "1  9A191EB2C751D85D   docked_bike  2020-06-26 07:26:10  2020-06-26 07:31:58   \n",
      "2  F37D14B0B5659BCF   docked_bike  2020-06-23 17:12:41  2020-06-23 17:21:14   \n",
      "3  C41237B506E85FA1   docked_bike  2020-06-20 01:09:35  2020-06-20 01:28:24   \n",
      "4  4B51B3B0BDA7787C   docked_bike  2020-06-25 16:59:25  2020-06-25 17:08:48   \n",
      "\n",
      "            start_station_name start_station_id          end_station_name  \\\n",
      "0     Wilton Ave & Belmont Ave              117  Damen Ave & Clybourn Ave   \n",
      "1         Federal St & Polk St               41        Daley Center Plaza   \n",
      "2           Daley Center Plaza               81    State St & Harrison St   \n",
      "3      Broadway & Cornelia Ave              303     Broadway & Berwyn Ave   \n",
      "4  Sheffield Ave & Webster Ave              327  Wilton Ave & Belmont Ave   \n",
      "\n",
      "  end_station_id  start_lat  start_lng    end_lat    end_lng member_casual  \n",
      "0          163.0  41.940180 -87.653040  41.931931 -87.677856        casual  \n",
      "1           81.0  41.872077 -87.629543  41.884241 -87.629634        member  \n",
      "2            5.0  41.884241 -87.629634  41.874053 -87.627716        member  \n",
      "3          294.0  41.945529 -87.646439  41.978353 -87.659753        casual  \n",
      "4          117.0  41.921540 -87.653818  41.940180 -87.653040        casual  \n",
      "<class 'pandas.core.frame.DataFrame'>\n",
      "Int64Index: 3759262 entries, 0 to 4073560\n",
      "Data columns (total 13 columns):\n",
      " #   Column              Dtype  \n",
      "---  ------              -----  \n",
      " 0   ride_id             object \n",
      " 1   rideable_type       object \n",
      " 2   started_at          object \n",
      " 3   ended_at            object \n",
      " 4   start_station_name  object \n",
      " 5   start_station_id    object \n",
      " 6   end_station_name    object \n",
      " 7   end_station_id      object \n",
      " 8   start_lat           float64\n",
      " 9   start_lng           float64\n",
      " 10  end_lat             float64\n",
      " 11  end_lng             float64\n",
      " 12  member_casual       object \n",
      "dtypes: float64(4), object(9)\n",
      "memory usage: 401.5+ MB\n",
      "None\n"
     ]
    }
   ],
   "source": [
    "print(clean_df.head(5))\n",
    "print(clean_df.info())"
   ]
  },
  {
   "cell_type": "markdown",
   "id": "e144eb2d",
   "metadata": {},
   "source": [
    "# PROCESS DATA"
   ]
  },
  {
   "cell_type": "code",
   "execution_count": 18,
   "id": "a03793ab",
   "metadata": {},
   "outputs": [],
   "source": [
    "pd.options.mode.chained_assignment = None"
   ]
  },
  {
   "cell_type": "code",
   "execution_count": 19,
   "id": "cb95b0be",
   "metadata": {},
   "outputs": [],
   "source": [
    "# transform started_at and ended_at into datetime\n",
    "clean_df[\"started_at\"] = pd.to_datetime(clean_df[\"started_at\"])\n",
    "clean_df[\"ended_at\"] = pd.to_datetime(clean_df[\"ended_at\"])"
   ]
  },
  {
   "cell_type": "code",
   "execution_count": 20,
   "id": "b2c54d2f",
   "metadata": {},
   "outputs": [
    {
     "name": "stdout",
     "output_type": "stream",
     "text": [
      "                  ride_id rideable_type          started_at  \\\n",
      "3720412  C4896415C76C8463   docked_bike 2021-05-23 17:41:59   \n",
      "3732002  583824DCF443DD0B   docked_bike 2021-05-30 13:28:44   \n",
      "3949186  B304E261D019812E   docked_bike 2021-05-30 23:25:08   \n",
      "3721215  1073DF51476BB423   docked_bike 2021-05-21 13:56:08   \n",
      "3588249  BDA1217EC8532C7B   docked_bike 2021-05-02 02:56:07   \n",
      "...                   ...           ...                 ...   \n",
      "93748    4AFF9415DF507565   docked_bike 2020-06-03 06:00:21   \n",
      "128222   90058C0761C4E45F   docked_bike 2020-06-03 06:00:14   \n",
      "34902    E771D6B798F54371   docked_bike 2020-06-03 05:59:59   \n",
      "26101    742C8A708C5D94FE   docked_bike 2020-06-03 06:03:42   \n",
      "294147   B29C30CFA0072B25   docked_bike 2020-06-03 06:00:12   \n",
      "\n",
      "                   ended_at               start_station_name start_station_id  \\\n",
      "3720412 2021-06-10 22:17:11                  Millennium Park            13008   \n",
      "3732002 2021-06-10 16:10:13               Clark St & Lake St     KA1503000012   \n",
      "3949186 2021-06-09 10:14:39  Cityfront Plaza Dr & Pioneer Ct            13427   \n",
      "3721215 2021-06-08 22:29:59                   Dusable Harbor     KA1503000064   \n",
      "3588249 2021-06-08 13:37:43          State St & Van Buren St     TA1305000035   \n",
      "...                     ...                              ...              ...   \n",
      "93748   2020-06-03 06:13:13                     Eckhart Park               86   \n",
      "128222  2020-06-03 06:12:09         Halsted St & Dickens Ave              225   \n",
      "34902   2020-06-03 06:11:16            Ashland Ave & Lake St              119   \n",
      "26101   2020-06-03 06:03:46         Halsted St & Dickens Ave              225   \n",
      "294147  2020-06-03 06:03:37        Larrabee St & Webster Ave              144   \n",
      "\n",
      "                            end_station_name  \\\n",
      "3720412      Base - 2132 W Hubbard Warehouse   \n",
      "3732002               Michigan Ave & Lake St   \n",
      "3949186      Base - 2132 W Hubbard Warehouse   \n",
      "3721215      Base - 2132 W Hubbard Warehouse   \n",
      "3588249                   Wells St & Polk St   \n",
      "...                                      ...   \n",
      "93748    Mies van der Rohe Way & Chicago Ave   \n",
      "128222                   Clark St & Grace St   \n",
      "34902                             Walsh Park   \n",
      "26101               Halsted St & Dickens Ave   \n",
      "294147           Halsted St & Wrightwood Ave   \n",
      "\n",
      "                              end_station_id  start_lat  start_lng    end_lat  \\\n",
      "3720412  Hubbard Bike-checking (LBS-WH-TEST)  41.881032 -87.624084  41.889955   \n",
      "3732002                         TA1305000011  41.886021 -87.630876  41.886024   \n",
      "3949186  Hubbard Bike-checking (LBS-WH-TEST)  41.890573 -87.622072  41.889955   \n",
      "3721215  Hubbard Bike-checking (LBS-WH-TEST)  41.886976 -87.612813  41.889955   \n",
      "3588249                               SL-011  41.877181 -87.627844  41.872596   \n",
      "...                                      ...        ...        ...        ...   \n",
      "93748                                  173.0  41.896373 -87.660983  41.896910   \n",
      "128222                                 165.0  41.919936 -87.648830  41.950780   \n",
      "34902                                  628.0  41.885920 -87.667170  41.914610   \n",
      "26101                                  225.0  41.919936 -87.648830  41.919936   \n",
      "294147                                 349.0  41.921822 -87.644140  41.929143   \n",
      "\n",
      "           end_lng member_casual  \n",
      "3720412 -87.680651        casual  \n",
      "3732002 -87.624117        casual  \n",
      "3949186 -87.680651        casual  \n",
      "3721215 -87.680651        casual  \n",
      "3588249 -87.633502        casual  \n",
      "...            ...           ...  \n",
      "93748   -87.621743        member  \n",
      "128222  -87.659172        member  \n",
      "34902   -87.667968        member  \n",
      "26101   -87.648830        member  \n",
      "294147  -87.649077        member  \n",
      "\n",
      "[3759262 rows x 13 columns]\n"
     ]
    }
   ],
   "source": [
    "# Sort dataframe in descending order based on ended_at column\n",
    "clean_df.sort_values(by=[\"ended_at\"], inplace=True, ascending=False)\n",
    "print(clean_df)"
   ]
  },
  {
   "cell_type": "code",
   "execution_count": 21,
   "id": "fbef8768",
   "metadata": {},
   "outputs": [],
   "source": [
    "# From above, we notice that the dataframe contains some data for June 2021.\n",
    "# Below we remove june 2021 data so that months = 12\n",
    "\n",
    "june_2021_filter = df[\"ended_at\"] <= \"2021-06-03 00:00:00\"\n",
    "clean_df = clean_df[june_2021_filter]\n"
   ]
  },
  {
   "cell_type": "code",
   "execution_count": 22,
   "id": "cf94f66f",
   "metadata": {},
   "outputs": [],
   "source": [
    "# Create ride_length column (ride_length is in minutes)\n",
    "ride_length = clean_df[\"ended_at\"] - clean_df[\"started_at\"]\n",
    "ride_length = np.round(ride_length.dt.total_seconds() / 60, 2)\n",
    "clean_df[\"ride_length\"] = ride_length"
   ]
  },
  {
   "cell_type": "code",
   "execution_count": 23,
   "id": "fe5d871e",
   "metadata": {},
   "outputs": [],
   "source": [
    "# day_of_week\n",
    "# This colum will contain the day of the week a ride started\n",
    "clean_df[\"day_of_week\"] = clean_df[\"started_at\"].dt.day_name()"
   ]
  },
  {
   "cell_type": "code",
   "execution_count": 24,
   "id": "4c3eb01f",
   "metadata": {},
   "outputs": [
    {
     "name": "stdout",
     "output_type": "stream",
     "text": [
      "                  ride_id rideable_type          started_at  \\\n",
      "3995160  A395D6C9A3DF99CB   docked_bike 2021-05-30 13:28:35   \n",
      "3837429  FDE3A0BDFBBEF2D3   docked_bike 2021-05-31 13:23:00   \n",
      "3930954  4714FB84FAA2FCB2   docked_bike 2021-05-30 15:49:20   \n",
      "3770334  4C1F7EC575F92A86   docked_bike 2021-05-30 15:16:43   \n",
      "3564026  FD95EAA51634E6AD   docked_bike 2021-05-30 13:38:24   \n",
      "...                   ...           ...                 ...   \n",
      "93748    4AFF9415DF507565   docked_bike 2020-06-03 06:00:21   \n",
      "128222   90058C0761C4E45F   docked_bike 2020-06-03 06:00:14   \n",
      "34902    E771D6B798F54371   docked_bike 2020-06-03 05:59:59   \n",
      "26101    742C8A708C5D94FE   docked_bike 2020-06-03 06:03:42   \n",
      "294147   B29C30CFA0072B25   docked_bike 2020-06-03 06:00:12   \n",
      "\n",
      "                   ended_at         start_station_name start_station_id  \\\n",
      "3995160 2021-06-02 23:25:59         Clark St & Lake St     KA1503000012   \n",
      "3837429 2021-06-02 22:03:08            Millennium Park            13008   \n",
      "3930954 2021-06-02 12:53:55   Chicago State University            20106   \n",
      "3770334 2021-06-02 11:37:50     State St & Randolph St     TA1305000029   \n",
      "3564026 2021-06-02 10:42:52    Streeter Dr & Grand Ave            13022   \n",
      "...                     ...                        ...              ...   \n",
      "93748   2020-06-03 06:13:13               Eckhart Park               86   \n",
      "128222  2020-06-03 06:12:09   Halsted St & Dickens Ave              225   \n",
      "34902   2020-06-03 06:11:16      Ashland Ave & Lake St              119   \n",
      "26101   2020-06-03 06:03:46   Halsted St & Dickens Ave              225   \n",
      "294147  2020-06-03 06:03:37  Larrabee St & Webster Ave              144   \n",
      "\n",
      "                            end_station_name end_station_id  start_lat  \\\n",
      "3995160           Kedzie Ave & Milwaukee Ave          13085  41.886021   \n",
      "3837429             Broadway & Thorndale Ave          15575  41.881032   \n",
      "3930954             Chicago State University          20106  41.718963   \n",
      "3770334             Leavitt St & Division St            658  41.884679   \n",
      "3564026            Columbus Dr & Randolph St          13263  41.892278   \n",
      "...                                      ...            ...        ...   \n",
      "93748    Mies van der Rohe Way & Chicago Ave          173.0  41.896373   \n",
      "128222                   Clark St & Grace St          165.0  41.919936   \n",
      "34902                             Walsh Park          628.0  41.885920   \n",
      "26101               Halsted St & Dickens Ave          225.0  41.919936   \n",
      "294147           Halsted St & Wrightwood Ave          349.0  41.921822   \n",
      "\n",
      "         start_lng    end_lat    end_lng member_casual  ride_length  \\\n",
      "3995160 -87.630876  41.929567 -87.707857        casual      4917.40   \n",
      "3837429 -87.624084  41.989743 -87.660141        casual      3400.13   \n",
      "3930954 -87.608296  41.718963 -87.608296        casual      4144.58   \n",
      "3770334 -87.627975  41.902997 -87.683825        casual      4101.12   \n",
      "3564026 -87.612043  41.884728 -87.619521        casual      4144.47   \n",
      "...            ...        ...        ...           ...          ...   \n",
      "93748   -87.660983  41.896910 -87.621743        member        12.87   \n",
      "128222  -87.648830  41.950780 -87.659172        member        11.92   \n",
      "34902   -87.667170  41.914610 -87.667968        member        11.28   \n",
      "26101   -87.648830  41.919936 -87.648830        member         0.07   \n",
      "294147  -87.644140  41.929143 -87.649077        member         3.42   \n",
      "\n",
      "        day_of_week  month month_name  \n",
      "3995160      Sunday      5        May  \n",
      "3837429      Monday      5        May  \n",
      "3930954      Sunday      5        May  \n",
      "3770334      Sunday      5        May  \n",
      "3564026      Sunday      5        May  \n",
      "...             ...    ...        ...  \n",
      "93748     Wednesday      6        Jun  \n",
      "128222    Wednesday      6        Jun  \n",
      "34902     Wednesday      6        Jun  \n",
      "26101     Wednesday      6        Jun  \n",
      "294147    Wednesday      6        Jun  \n",
      "\n",
      "[3759235 rows x 17 columns]\n"
     ]
    }
   ],
   "source": [
    "# month columns\n",
    "clean_df[\"month\"] = pd.DatetimeIndex(clean_df[\"started_at\"]).month\n",
    "clean_df[\"month_name\"] = clean_df[\"started_at\"].dt.strftime(\"%b\")\n",
    "print(clean_df)"
   ]
  },
  {
   "cell_type": "code",
   "execution_count": 25,
   "id": "c7a514e9",
   "metadata": {},
   "outputs": [
    {
     "name": "stdout",
     "output_type": "stream",
     "text": [
      "          start_lat     start_lng       end_lat       end_lng   ride_length  \\\n",
      "count  3.759235e+06  3.759235e+06  3.759235e+06  3.759235e+06  3.759235e+06   \n",
      "mean   4.190430e+01 -8.764374e+01  4.190458e+01 -8.764402e+01  2.450574e+01   \n",
      "std    4.144593e-02  2.413830e-02  4.154276e-02  2.426557e-02  3.543237e+02   \n",
      "min    4.164850e+01 -8.777470e+01  4.164850e+01 -8.777470e+01 -2.904997e+04   \n",
      "25%    4.188266e+01 -8.765653e+01  4.188283e+01 -8.765695e+01  7.820000e+00   \n",
      "50%    4.189897e+01 -8.763990e+01  4.189964e+01 -8.764107e+01  1.422000e+01   \n",
      "75%    4.192947e+01 -8.762761e+01  4.192955e+01 -8.762769e+01  2.615000e+01   \n",
      "max    4.206489e+01 -8.752823e+01  4.206501e+01 -8.752452e+01  5.428335e+04   \n",
      "\n",
      "              month  \n",
      "count  3.759235e+06  \n",
      "mean   7.109070e+00  \n",
      "std    2.539002e+00  \n",
      "min    1.000000e+00  \n",
      "25%    5.000000e+00  \n",
      "50%    7.000000e+00  \n",
      "75%    9.000000e+00  \n",
      "max    1.200000e+01  \n"
     ]
    }
   ],
   "source": [
    "# Get a summary of the data\n",
    "data_descrption = clean_df.describe()\n",
    "print(data_descrption)"
   ]
  },
  {
   "cell_type": "code",
   "execution_count": 26,
   "id": "41a87f6e",
   "metadata": {},
   "outputs": [
    {
     "name": "stdout",
     "output_type": "stream",
     "text": [
      "Rows with negative ride length value                   ride_id  rideable_type          started_at  \\\n",
      "3855059  3EC1B5A4D4B9AB99   classic_bike 2021-05-05 16:10:04   \n",
      "3497376  318DD838369AEA61   classic_bike 2021-04-30 10:56:32   \n",
      "3497264  6E81034B446FC2FD  electric_bike 2021-04-23 09:43:39   \n",
      "3497731  8ADD13BD8F6A7567   classic_bike 2021-04-17 12:43:36   \n",
      "3227059  BC53ECCBC76278FD   classic_bike 2021-04-07 16:11:33   \n",
      "...                   ...            ...                 ...   \n",
      "51866    1DB151399AF9CD21    docked_bike 2020-06-03 10:50:40   \n",
      "52149    BA20A3E54DDB643B    docked_bike 2020-06-03 10:18:43   \n",
      "70962    380583B1980964E2    docked_bike 2020-06-03 09:56:40   \n",
      "79997    B74D4FD4D24FA6E2    docked_bike 2020-06-03 09:54:56   \n",
      "250389   A578E6884FEF2972    docked_bike 2020-06-03 09:53:40   \n",
      "\n",
      "                   ended_at              start_station_name start_station_id  \\\n",
      "3855059 2021-05-05 16:09:51           Dayton St & North Ave            13058   \n",
      "3497376 2021-04-30 10:56:30           Dayton St & North Ave            13058   \n",
      "3497264 2021-04-23 09:43:29           Dayton St & North Ave            13058   \n",
      "3497731 2021-04-17 12:43:27           Dayton St & North Ave            13058   \n",
      "3227059 2021-04-07 16:11:26         Ashland Ave & Grand Ave            13434   \n",
      "...                     ...                             ...              ...   \n",
      "51866   2020-06-03 10:50:29          Michigan Ave & Lake St               52   \n",
      "52149   2020-06-03 10:18:33  Wentworth Ave & 24th St (Temp)              132   \n",
      "70962   2020-06-03 09:55:33           Wolcott Ave & Polk St              342   \n",
      "79997   2020-06-03 09:54:25            Federal St & Polk St               41   \n",
      "250389  2020-06-03 09:52:51               Clark St & Elm St              176   \n",
      "\n",
      "                        end_station_name end_station_id  start_lat  start_lng  \\\n",
      "3855059            Dayton St & North Ave          13058  41.910578 -87.649422   \n",
      "3497376            Dayton St & North Ave          13058  41.910578 -87.649422   \n",
      "3497264            Dayton St & North Ave          13058  41.910638 -87.649372   \n",
      "3497731            Dayton St & North Ave          13058  41.910578 -87.649422   \n",
      "3227059          Ashland Ave & Grand Ave          13434  41.891072 -87.666611   \n",
      "...                                  ...            ...        ...        ...   \n",
      "51866              Wells St & Hubbard St          212.0  41.886024 -87.624117   \n",
      "52149             Michigan Ave & Lake St           52.0  41.850083 -87.632140   \n",
      "70962    Cityfront Plaza Dr & Pioneer Ct          196.0  41.871262 -87.673688   \n",
      "79997         Dearborn St & Van Buren St          624.0  41.872077 -87.629543   \n",
      "250389                 Wells St & Elm St          182.0  41.902973 -87.631280   \n",
      "\n",
      "           end_lat    end_lng member_casual  ride_length day_of_week  month  \\\n",
      "3855059  41.910578 -87.649422        member        -0.22   Wednesday      5   \n",
      "3497376  41.910578 -87.649422        member        -0.03      Friday      4   \n",
      "3497264  41.910650 -87.649386        member        -0.17      Friday      4   \n",
      "3497731  41.910578 -87.649422        member        -0.15    Saturday      4   \n",
      "3227059  41.891072 -87.666611        member        -0.12   Wednesday      4   \n",
      "...            ...        ...           ...          ...         ...    ...   \n",
      "51866    41.889906 -87.634266        member        -0.18   Wednesday      6   \n",
      "52149    41.886024 -87.624117        member        -0.17   Wednesday      6   \n",
      "70962    41.890573 -87.622072        member        -1.12   Wednesday      6   \n",
      "79997    41.876268 -87.629155        member        -0.52   Wednesday      6   \n",
      "250389   41.903222 -87.634324        member        -0.82   Wednesday      6   \n",
      "\n",
      "        month_name  \n",
      "3855059        May  \n",
      "3497376        Apr  \n",
      "3497264        Apr  \n",
      "3497731        Apr  \n",
      "3227059        Apr  \n",
      "...            ...  \n",
      "51866          Jun  \n",
      "52149          Jun  \n",
      "70962          Jun  \n",
      "79997          Jun  \n",
      "250389         Jun  \n",
      "\n",
      "[10237 rows x 17 columns]\n"
     ]
    }
   ],
   "source": [
    "# From this summary:\n",
    "# We note that there are some negative values  for ride length\n",
    "# Below we take a better look at them\n",
    "\n",
    "neg_ride_length = clean_df[clean_df[\"ride_length\"] < 0]\n",
    "print(f\"Rows with negative ride length value {neg_ride_length}\")"
   ]
  },
  {
   "cell_type": "code",
   "execution_count": 27,
   "id": "2987bcce",
   "metadata": {},
   "outputs": [],
   "source": [
    "\n",
    "# 10k rows have negative values - we filter them out\n",
    "clean_df = clean_df[clean_df[\"ride_length\"] > 0]\n"
   ]
  },
  {
   "cell_type": "markdown",
   "id": "330d6923",
   "metadata": {},
   "source": [
    "# ANALYZE DATA"
   ]
  },
  {
   "cell_type": "code",
   "execution_count": 28,
   "id": "1bc5646b",
   "metadata": {},
   "outputs": [
    {
     "name": "stdout",
     "output_type": "stream",
     "text": [
      "          start_lat     start_lng       end_lat       end_lng   ride_length  \\\n",
      "count  3.748706e+06  3.748706e+06  3.748706e+06  3.748706e+06  3.748706e+06   \n",
      "mean   4.190429e+01 -8.764375e+01  4.190458e+01 -8.764402e+01  2.698052e+01   \n",
      "std    4.145382e-02  2.414443e-02  4.154821e-02  2.427042e-02  2.388391e+02   \n",
      "min    4.164850e+01 -8.777470e+01  4.164850e+01 -8.777470e+01  2.000000e-02   \n",
      "25%    4.188266e+01 -8.765663e+01  4.188283e+01 -8.765695e+01  7.870000e+00   \n",
      "50%    4.189897e+01 -8.763998e+01  4.189964e+01 -8.764107e+01  1.427000e+01   \n",
      "75%    4.192947e+01 -8.762763e+01  4.192955e+01 -8.762769e+01  2.620000e+01   \n",
      "max    4.206489e+01 -8.752823e+01  4.206501e+01 -8.752452e+01  5.428335e+04   \n",
      "\n",
      "              month  \n",
      "count  3.748706e+06  \n",
      "mean   7.104646e+00  \n",
      "std    2.539981e+00  \n",
      "min    1.000000e+00  \n",
      "25%    5.000000e+00  \n",
      "50%    7.000000e+00  \n",
      "75%    9.000000e+00  \n",
      "max    1.200000e+01  \n"
     ]
    }
   ],
   "source": [
    "# SUMMARY\n",
    "data_descrption = clean_df.describe()\n",
    "print(data_descrption)"
   ]
  },
  {
   "cell_type": "code",
   "execution_count": 29,
   "id": "8c34265d",
   "metadata": {},
   "outputs": [],
   "source": [
    "# From the new summary:\n",
    "# The average ride_length is 26.98 minutes\n",
    "# The minimum ride length is 1.2 seconds\n",
    "# The maximum ride length is 904.72hours, approxiamately 38days"
   ]
  },
  {
   "cell_type": "code",
   "execution_count": 30,
   "id": "77911f2b",
   "metadata": {},
   "outputs": [
    {
     "name": "stdout",
     "output_type": "stream",
     "text": [
      "Number of riders per category \n",
      " member    2173843\n",
      "casual    1574863\n",
      "Name: member_casual, dtype: int64\n"
     ]
    }
   ],
   "source": [
    "# TOTAL NUMBER OF RIDERS PER CATEGORY\n",
    "\n",
    "total_riders = clean_df[\"member_casual\"].value_counts()\n",
    "print(f\"Number of riders per category \\n {total_riders}\")"
   ]
  },
  {
   "cell_type": "code",
   "execution_count": 31,
   "id": "a0364704",
   "metadata": {},
   "outputs": [
    {
     "name": "stdout",
     "output_type": "stream",
     "text": [
      "Total riders using ride_id \n",
      " member_casual\n",
      "casual    1574863\n",
      "member    2173843\n",
      "Name: ride_id, dtype: int64\n"
     ]
    }
   ],
   "source": [
    "# Confirm the total number of bike-share riders\n",
    "total_riders_using_id = clean_df.groupby([\"member_casual\"])[\"ride_id\"].count()\n",
    "print(f\"Total riders using ride_id \\n {total_riders_using_id}\")"
   ]
  },
  {
   "cell_type": "code",
   "execution_count": 32,
   "id": "f876a03b",
   "metadata": {},
   "outputs": [
    {
     "data": {
      "image/png": "[encoded data removed]",
      "text/plain": [
       "<Figure size 630x270 with 1 Axes>"
      ]
     },
     "metadata": {},
     "output_type": "display_data"
    }
   ],
   "source": [
    "# Pie chart to show riders per category\n",
    "fig, ax = plt.subplots(figsize=(7, 3), dpi=90)\n",
    "labels = [\"Member\", \"Casual\"]\n",
    "plt.pie(x=total_riders, autopct=\"%.1f%%\", labels=labels)\n",
    "ax.set_title(\"Total Bike Hires Per Rider Category\", pad=14, loc=\"center\")\n",
    "plt.show()\n"
   ]
  },
  {
   "cell_type": "code",
   "execution_count": 33,
   "id": "712e0987",
   "metadata": {},
   "outputs": [
    {
     "name": "stdout",
     "output_type": "stream",
     "text": [
      "    Month  Total Hires\n",
      "0       5       450951\n",
      "1       4       298199\n",
      "2       3       205687\n",
      "3       2        42994\n",
      "4       1        83508\n",
      "5      12       113539\n",
      "6      11       221916\n",
      "7      10       337375\n",
      "8       9       498228\n",
      "9       8       605652\n",
      "10      7       548617\n",
      "11      6       342040\n"
     ]
    }
   ],
   "source": [
    "ride_hires_per_month = (\n",
    "    clean_df[\"month\"]\n",
    "    .value_counts(sort=False)\n",
    "    .rename_axis(\"Month\")\n",
    "    .reset_index(name=\"Total Hires\")\n",
    ")\n",
    "\n",
    "months = [\n",
    "    \"Jan\",\n",
    "    \"Feb\",\n",
    "    \"Mar\",\n",
    "    \"Apr\",\n",
    "    \"May\",\n",
    "    \"Jun\",\n",
    "    \"Jul\",\n",
    "    \"Aug\",\n",
    "    \"Sep\",\n",
    "    \"Oct\",\n",
    "    \"Nov\",\n",
    "    \"Dec\",\n",
    "]\n",
    "print(ride_hires_per_month)"
   ]
  },
  {
   "cell_type": "code",
   "execution_count": 37,
   "id": "46465601",
   "metadata": {},
   "outputs": [
    {
     "data": {
      "image/png": "[encoded data removed]",
      "text/plain": [
       "<Figure size 630x270 with 1 Axes>"
      ]
     },
     "metadata": {
      "needs_background": "light"
     },
     "output_type": "display_data"
    }
   ],
   "source": [
    "plt.figure(figsize=(7, 3),dpi=90)\n",
    "plt.title(\"Total Bike Hires per Month\")\n",
    "sns.barplot(data=ride_hires_per_month, x=months, y=\"Total Hires\")\n",
    "plt.show()\n"
   ]
  },
  {
   "cell_type": "code",
   "execution_count": 36,
   "id": "8220accf",
   "metadata": {},
   "outputs": [
    {
     "name": "stdout",
     "output_type": "stream",
     "text": [
      "         Day  Total Hires\n",
      "6     Monday       462927\n",
      "5    Tuesday       464319\n",
      "4  Wednesday       488583\n",
      "3   Thursday       491949\n",
      "2     Friday       549151\n",
      "1     Sunday       591228\n",
      "0   Saturday       700549\n"
     ]
    }
   ],
   "source": [
    "# Find out what days of the week have the most bike hires\n",
    "\n",
    "ride_hires_per_day = (\n",
    "    clean_df[\"day_of_week\"]\n",
    "    .value_counts()\n",
    "    .rename_axis(\"Day\")\n",
    "    .reset_index(name=\"Total Hires\")\n",
    ")\n",
    "ride_hires_per_day.sort_values(by=[\"Total Hires\"], inplace=True, ascending=True)\n",
    "print(ride_hires_per_day)"
   ]
  },
  {
   "cell_type": "code",
   "execution_count": 41,
   "id": "751e3d1e",
   "metadata": {},
   "outputs": [
    {
     "data": {
      "image/png": "[encoded data removed]",
      "text/plain": [
       "<Figure size 630x270 with 1 Axes>"
      ]
     },
     "metadata": {
      "needs_background": "light"
     },
     "output_type": "display_data"
    }
   ],
   "source": [
    "plt.figure(figsize=(7, 3), dpi=90)\n",
    "plt.title(\"Total Bike Hires per Day of the Week\", loc=\"left\", pad=14)\n",
    "sns.barplot(data=ride_hires_per_day, x=\"Day\", y=\"Total Hires\")\n",
    "plt.show()"
   ]
  },
  {
   "cell_type": "code",
   "execution_count": 38,
   "id": "dc3c0a1d",
   "metadata": {},
   "outputs": [],
   "source": [
    "monthly_bike_hires_per_customer_category = clean_df.groupby([\"member_casual\"])[\n",
    "    \"month_name\"\n",
    "].value_counts(sort=True)"
   ]
  },
  {
   "cell_type": "code",
   "execution_count": 39,
   "id": "a13b95be",
   "metadata": {},
   "outputs": [],
   "source": [
    "monthly_casual_member_df = pd.DataFrame()\n",
    "monthly_casual_member_df[\"casual\"] = monthly_bike_hires_per_customer_category[\"casual\"]\n",
    "monthly_casual_member_df[\"member\"] = monthly_bike_hires_per_customer_category[\"member\"]\n",
    "monthly_casual_member_df[\"Month\"] = monthly_casual_member_df.index"
   ]
  },
  {
   "cell_type": "code",
   "execution_count": 40,
   "id": "372565f1",
   "metadata": {},
   "outputs": [
    {
     "name": "stdout",
     "output_type": "stream",
     "text": [
      "            casual  member Month\n",
      "month_name                      \n",
      "Aug         281945  323707   Aug\n",
      "Jul         268103  280514   Jul\n",
      "May         216796  234155   May\n",
      "Sep         214672  283556   Sep\n",
      "Jun         154329  187711   Jun\n",
      "Oct         122317  215058   Oct\n",
      "Apr         120418  177781   Apr\n",
      "Mar          75641  130046   Mar\n",
      "Nov          72847  149069   Nov\n",
      "Dec          24492   89047   Dec\n",
      "Jan          14690   68818   Jan\n",
      "Feb           8613   34381   Feb\n"
     ]
    }
   ],
   "source": [
    "print(monthly_casual_member_df)"
   ]
  },
  {
   "cell_type": "code",
   "execution_count": 41,
   "id": "996d1fa0",
   "metadata": {},
   "outputs": [
    {
     "data": {
      "image/png": "[encoded data removed]",
      "text/plain": [
       "<Figure size 630x270 with 1 Axes>"
      ]
     },
     "metadata": {
      "needs_background": "light"
     },
     "output_type": "display_data"
    }
   ],
   "source": [
    "pos = list(range(len(monthly_casual_member_df[\"casual\"])))\n",
    "width = 0.25\n",
    "\n",
    "fig, ax = plt.subplots(figsize=(7, 3), dpi=90)\n",
    "plt.bar(pos, monthly_casual_member_df[\"casual\"], width)\n",
    "plt.bar([p + width for p in pos], monthly_casual_member_df[\"member\"], width)\n",
    "\n",
    "# Setting the y and x axis label\n",
    "ax.set_ylabel(\"Total Hires\")\n",
    "ax.set_xlabel(\"Month\")\n",
    "# Setting the chart's title\n",
    "ax.set_title(\"Total Bike Hires per Rider Category per Month\", loc=\"left\", pad=14)\n",
    "\n",
    "# Setting the position of the x ticks\n",
    "ax.set_xticks([p + 1.5 * width for p in pos])\n",
    "\n",
    "# Setting the labels for the x ticks\n",
    "ax.set_xticklabels(monthly_casual_member_df[\"Month\"])\n",
    "\n",
    "# Adding the legend and showing the plot\n",
    "plt.legend([\"Casual\", \"Member\"], loc=\"upper right\")\n",
    "plt.show()"
   ]
  },
  {
   "cell_type": "code",
   "execution_count": 42,
   "id": "afc7d5a1",
   "metadata": {},
   "outputs": [
    {
     "name": "stdout",
     "output_type": "stream",
     "text": [
      "member_casual  day_of_week\n",
      "casual         Saturday       368606\n",
      "               Sunday         307081\n",
      "               Friday         225954\n",
      "               Thursday       175347\n",
      "               Monday         171911\n",
      "               Wednesday      166643\n",
      "               Tuesday        159321\n",
      "member         Saturday       331943\n",
      "               Friday         323197\n",
      "               Wednesday      321940\n",
      "               Thursday       316602\n",
      "               Tuesday        304998\n",
      "               Monday         291016\n",
      "               Sunday         284147\n",
      "Name: day_of_week, dtype: int64\n",
      "             casual  member        Day\n",
      "day_of_week                           \n",
      "Saturday     368606  331943   Saturday\n",
      "Sunday       307081  284147     Sunday\n",
      "Friday       225954  323197     Friday\n",
      "Thursday     175347  316602   Thursday\n",
      "Monday       171911  291016     Monday\n",
      "Wednesday    166643  321940  Wednesday\n",
      "Tuesday      159321  304998    Tuesday\n"
     ]
    }
   ],
   "source": [
    "# BIKE HIRES PER CATEGORY PER DAY\n",
    "# Find out how ridership compares everyday for the two rider categories\n",
    "\n",
    "bike_hires_per_customer_category = clean_df.groupby([\"member_casual\"])[\n",
    "    \"day_of_week\"\n",
    "].value_counts(sort=True)\n",
    "print(bike_hires_per_customer_category)\n",
    "\n",
    "casual_member_df = pd.DataFrame()\n",
    "casual_member_df[\"casual\"] = bike_hires_per_customer_category[\"casual\"]\n",
    "casual_member_df[\"member\"] = bike_hires_per_customer_category[\"member\"]\n",
    "casual_member_df[\"Day\"] = casual_member_df.index\n",
    "\n",
    "print(casual_member_df)"
   ]
  },
  {
   "cell_type": "code",
   "execution_count": 43,
   "id": "8c7c61f5",
   "metadata": {},
   "outputs": [
    {
     "data": {
      "image/png": "[encoded data removed]",
      "text/plain": [
       "<Figure size 630x270 with 1 Axes>"
      ]
     },
     "metadata": {
      "needs_background": "light"
     },
     "output_type": "display_data"
    }
   ],
   "source": [
    "\n",
    "\n",
    "pos = list(range(len(casual_member_df[\"casual\"])))\n",
    "width = 0.25\n",
    "\n",
    "fig, ax = plt.subplots(figsize=(7, 3), dpi=90)\n",
    "\n",
    "plt.bar(pos, casual_member_df[\"casual\"], width)\n",
    "plt.bar([p + width for p in pos], casual_member_df[\"member\"], width)\n",
    "# Setting the y and x axis label\n",
    "ax.set_ylabel(\"Total Hires\")\n",
    "ax.set_xlabel(\"Day of the Week\")\n",
    "# Setting the chart's title\n",
    "ax.set_title(\"Total Bike Hires per Rider Category per Day\", loc=\"left\", pad=14)\n",
    "\n",
    "# Setting the position of the x ticks\n",
    "ax.set_xticks([p + 1.5 * width for p in pos])\n",
    "\n",
    "# Setting the labels for the x ticks\n",
    "ax.set_xticklabels(casual_member_df[\"Day\"])\n",
    "\n",
    "# Adding the legend and showing the plot\n",
    "plt.legend([\"Casual\", \"Member\"], loc=\"upper right\")\n",
    "plt.show()"
   ]
  },
  {
   "cell_type": "code",
   "execution_count": 44,
   "id": "95d1ad11",
   "metadata": {},
   "outputs": [
    {
     "name": "stdout",
     "output_type": "stream",
     "text": [
      "The average ride length per category member_casual\n",
      "casual    43.125897\n",
      "member    15.283834\n",
      "Name: ride_length, dtype: float64\n"
     ]
    },
    {
     "data": {
      "image/png": "[encoded data removed]",
      "text/plain": [
       "<Figure size 630x270 with 1 Axes>"
      ]
     },
     "metadata": {},
     "output_type": "display_data"
    }
   ],
   "source": [
    "# AVERAGE RIDE LENGTH PER CATEGORY\n",
    "\n",
    "average_ride_length = clean_df.groupby([\"member_casual\"])[\"ride_length\"].mean()\n",
    "print(f\"The average ride length per category {average_ride_length}\")\n",
    "\n",
    "fig, ax = plt.subplots(figsize=(7, 3), dpi=90)\n",
    "labels = [\"Casual\", \"Member\"]\n",
    "plt.pie(x=average_ride_length, autopct=\"%.1f%%\", labels=labels)\n",
    "ax.set_title(\"Average Ride Length\", pad=14, loc=\"center\")\n",
    "plt.show()"
   ]
  },
  {
   "cell_type": "code",
   "execution_count": 45,
   "id": "c53eeaaa",
   "metadata": {},
   "outputs": [
    {
     "name": "stdout",
     "output_type": "stream",
     "text": [
      "Average ride lenth per category per day member_casual  day_of_week\n",
      "casual         Friday         40.905779\n",
      "               Monday         42.544579\n",
      "               Saturday       44.983449\n",
      "               Sunday         48.932042\n",
      "               Thursday       40.516494\n",
      "               Tuesday        38.563561\n",
      "               Wednesday      39.035381\n",
      "member         Friday         14.914049\n",
      "               Monday         14.606788\n",
      "               Saturday       16.836476\n",
      "               Sunday         17.344367\n",
      "               Thursday       14.423968\n",
      "               Tuesday        14.399816\n",
      "               Wednesday      14.530654\n",
      "Name: ride_length, dtype: float64\n",
      "                casual     member        Day\n",
      "day_of_week                                 \n",
      "Friday       40.905779  14.914049     Friday\n",
      "Monday       42.544579  14.606788     Monday\n",
      "Saturday     44.983449  16.836476   Saturday\n",
      "Sunday       48.932042  17.344367     Sunday\n",
      "Thursday     40.516494  14.423968   Thursday\n",
      "Tuesday      38.563561  14.399816    Tuesday\n",
      "Wednesday    39.035381  14.530654  Wednesday\n"
     ]
    }
   ],
   "source": [
    "# AVERAGE RIDE LENGTH FOR RIDERS BY DAY OF THE WEEK\n",
    "\n",
    "average_daily_ride_length = clean_df.groupby([\"member_casual\", \"day_of_week\"])[\n",
    "    \"ride_length\"\n",
    "].mean()\n",
    "print(f\"Average ride lenth per category per day {average_daily_ride_length}\")\n",
    "\n",
    "weekly_average_ride_length_df = pd.DataFrame()\n",
    "\n",
    "weekly_average_ride_length_df[\"casual\"] = average_daily_ride_length[\"casual\"]\n",
    "weekly_average_ride_length_df[\"member\"] = average_daily_ride_length[\"member\"]\n",
    "weekly_average_ride_length_df[\"Day\"] = weekly_average_ride_length_df.index\n",
    "\n",
    "print(weekly_average_ride_length_df)\n"
   ]
  },
  {
   "cell_type": "code",
   "execution_count": 46,
   "id": "dc37665f",
   "metadata": {},
   "outputs": [
    {
     "data": {
      "image/png": "[encoded data removed]",
      "text/plain": [
       "<Figure size 630x270 with 1 Axes>"
      ]
     },
     "metadata": {
      "needs_background": "light"
     },
     "output_type": "display_data"
    }
   ],
   "source": [
    "pos = list(range(len(weekly_average_ride_length_df[\"casual\"])))\n",
    "width = 0.25\n",
    "\n",
    "fig, ax = plt.subplots(figsize=(7, 3), dpi=90)\n",
    "\n",
    "plt.bar(pos, weekly_average_ride_length_df[\"casual\"], width)\n",
    "plt.bar([p + width for p in pos], weekly_average_ride_length_df[\"member\"], width)\n",
    "\n",
    "# Setting the y and x axis label\n",
    "ax.set_ylabel(\"Average Ride Length\")\n",
    "ax.set_xlabel(\"Day of the Week\")\n",
    "# Setting the chart's title\n",
    "ax.set_title(\"Average Ride Length per Rider Category per Day\", loc=\"left\", pad=14)\n",
    "\n",
    "# Setting the position of the x ticks\n",
    "ax.set_xticks([p + 1.5 * width for p in pos])\n",
    "\n",
    "# Setting the labels for the x ticks\n",
    "ax.set_xticklabels(weekly_average_ride_length_df[\"Day\"])\n",
    "\n",
    "# Adding the legend and showing the plot\n",
    "plt.legend([\"Casual\", \"Member\"], loc=\"upper right\")\n",
    "plt.show()"
   ]
  },
  {
   "cell_type": "code",
   "execution_count": 47,
   "id": "6c16ce20",
   "metadata": {},
   "outputs": [
    {
     "name": "stdout",
     "output_type": "stream",
     "text": [
      "Average ride lenth per category per day member_casual  month\n",
      "casual         1        26.369980\n",
      "               2        47.137136\n",
      "               3        38.480475\n",
      "               4        38.441720\n",
      "               5        37.425277\n",
      "               6        51.233166\n",
      "               7        59.289462\n",
      "               8        44.250607\n",
      "               9        38.421527\n",
      "               10       31.299379\n",
      "               11       33.480158\n",
      "               12       27.621278\n",
      "member         1        12.031133\n",
      "               2        14.781198\n",
      "               3        13.665306\n",
      "               4        14.263098\n",
      "               5        14.344059\n",
      "               6        18.540866\n",
      "               7        17.574278\n",
      "               8        16.576305\n",
      "               9        15.277715\n",
      "               10       13.941265\n",
      "               11       13.491469\n",
      "               12       12.347370\n",
      "Name: ride_length, dtype: float64\n",
      "          casual     member  month\n",
      "month                             \n",
      "1      26.369980  12.031133      1\n",
      "2      47.137136  14.781198      2\n",
      "3      38.480475  13.665306      3\n",
      "4      38.441720  14.263098      4\n",
      "5      37.425277  14.344059      5\n",
      "6      51.233166  18.540866      6\n",
      "7      59.289462  17.574278      7\n",
      "8      44.250607  16.576305      8\n",
      "9      38.421527  15.277715      9\n",
      "10     31.299379  13.941265     10\n",
      "11     33.480158  13.491469     11\n",
      "12     27.621278  12.347370     12\n"
     ]
    }
   ],
   "source": [
    "# AVERAGE RIDE LENGTH FOR RIDERS BY MONTH\n",
    "\n",
    "average_daily_ride_length_per_month = clean_df.groupby([\"member_casual\", \"month\"])[\n",
    "    \"ride_length\"\n",
    "].mean()\n",
    "print(f\"Average ride lenth per category per day {average_daily_ride_length_per_month}\")\n",
    "\n",
    "monthly_average_ride_length_df = pd.DataFrame()\n",
    "\n",
    "monthly_average_ride_length_df[\"casual\"] = average_daily_ride_length_per_month[\"casual\"]\n",
    "monthly_average_ride_length_df[\"member\"] = average_daily_ride_length_per_month[\"member\"]\n",
    "monthly_average_ride_length_df[\"month\"] = monthly_average_ride_length_df.index\n",
    "\n",
    "print(monthly_average_ride_length_df)"
   ]
  },
  {
   "cell_type": "code",
   "execution_count": 48,
   "id": "534a2044",
   "metadata": {},
   "outputs": [
    {
     "data": {
      "image/png": "[encoded data removed]",
      "text/plain": [
       "<Figure size 630x270 with 1 Axes>"
      ]
     },
     "metadata": {
      "needs_background": "light"
     },
     "output_type": "display_data"
    }
   ],
   "source": [
    "pos = list(range(len(monthly_average_ride_length_df[\"casual\"])))\n",
    "width = 0.25\n",
    "\n",
    "fig, ax = plt.subplots(figsize=(7, 3), dpi=90)\n",
    "\n",
    "plt.bar(pos, monthly_average_ride_length_df[\"casual\"], width)\n",
    "plt.bar([p + width for p in pos], monthly_average_ride_length_df[\"member\"], width)\n",
    "\n",
    "# Setting the y and x axis label\n",
    "ax.set_ylabel(\"Average Ride Length\")\n",
    "ax.set_xlabel(\"Month\")\n",
    "# Setting the chart's title\n",
    "ax.set_title(\"Average Ride Length per Rider Category per Month\", loc=\"left\", pad=14)\n",
    "\n",
    "# Setting the position of the x ticks\n",
    "ax.set_xticks([p + 1.5 * width for p in pos])\n",
    "\n",
    "# Setting the labels for the x ticks\n",
    "ax.set_xticklabels(months)\n",
    "\n",
    "# Adding the legend and showing the plot\n",
    "plt.legend([\"Casual\", \"Member\"], loc=\"upper right\")\n",
    "plt.show()"
   ]
  },
  {
   "cell_type": "code",
   "execution_count": 49,
   "id": "bbaf8797",
   "metadata": {},
   "outputs": [
    {
     "name": "stdout",
     "output_type": "stream",
     "text": [
      "member_casual  rideable_type\n",
      "casual         docked_bike      1069137\n",
      "               classic_bike      264398\n",
      "               electric_bike     241328\n",
      "member         docked_bike      1258224\n",
      "               classic_bike      576650\n",
      "               electric_bike     338969\n",
      "Name: rideable_type, dtype: int64\n"
     ]
    }
   ],
   "source": [
    "# RIDEABLE TYPE PER RIDER CATEGORY\n",
    "type_of_bike = clean_df.groupby([\"member_casual\"])[\"rideable_type\"].value_counts()\n",
    "print(type_of_bike)\n"
   ]
  },
  {
   "cell_type": "code",
   "execution_count": 50,
   "id": "7741f6b6",
   "metadata": {},
   "outputs": [],
   "source": [
    "week_ride_member=clean_df[clean_df['member_casual'] =='member']\n",
    "week_ride_casual=clean_df[clean_df['member_casual'] !='member']"
   ]
  },
  {
   "cell_type": "code",
   "execution_count": 51,
   "id": "4dff07aa",
   "metadata": {},
   "outputs": [
    {
     "data": {
      "image/png": "[encoded data removed]",
      "text/plain": [
       "<Figure size 1152x576 with 2 Axes>"
      ]
     },
     "metadata": {
      "needs_background": "light"
     },
     "output_type": "display_data"
    }
   ],
   "source": [
    "fig,axes=plt.subplots(1,2,figsize=(16,8))\n",
    "ho=['electric_bike', 'classic_bike', 'docked_bike']\n",
    "sns.countplot(week_ride_member['day_of_week'],hue=week_ride_member.rideable_type,hue_order=ho,ax=axes[0])\n",
    "sns.countplot(week_ride_casual['day_of_week'],hue=week_ride_casual.rideable_type,hue_order=ho,ax=axes[1])\n",
    "axes[0].set_title('Members vs Type per day of week')\n",
    "axes[1].set_title('Casuals vs Type per day of week')\n",
    "plt.show()\n",
    "#Docked bike is the most popular for both members and casuals. But we can see that casuals prefer docked bike more than members do"
   ]
  },
  {
   "cell_type": "markdown",
   "id": "d48251a8",
   "metadata": {},
   "source": [
    "###  After tons of codes and analysis, it's time to share our results and to answer the question \"How can we convert casuals to members?\"."
   ]
  },
  {
   "cell_type": "markdown",
   "id": "4ef16463",
   "metadata": {},
   "source": [
    "### we still have some observations and inferences from our analysis that it's possible to come up with a possible solution. Although, it might not be effective fully. Now, let's summarize what we have observed from our analysis:\n",
    "1. Member bike usage is quite similar throughout the week except Sunday, which is less than other days. We can infer that members are mostly working people that getting a membership is financially and time wise viable option.\n",
    "2. Casual usage is slow for weekdays but weekends are very popular especially Saturday.\n",
    "3. Docked bike is the most popular for both members and casuals. But we can see that casuals prefer docked bike more than members do.\n",
    "4. The average distance traveled by members and casuals are almost same, however, members average trip duration ~15 min. is almost three times less than casual mean trip duration ~42 min.\n",
    "5. Most lengthy trips are taken by casuals and they are abnormally long. For instance, top five lengthy trips are 38, 37, 36, 35, 35 days all taken by casuals.\n",
    "6. All occurrence of the missing data (around 200k) of start and end station names occurred with electric bikes only. In other words, out of total 888224 electric bikes in use, around 200k has missing start or end station name."
   ]
  },
  {
   "cell_type": "markdown",
   "id": "12f308d2",
   "metadata": {},
   "source": [
    "### Considering the above observations and insights we can suggest the following:\n",
    "We see that members take shorter trips to work with bikes during Monday to Saturday, since it is financially viable and fast transportation. However, casuals prefer longer trips especially Saturday and Sunday. Thus:\n",
    "We could increase the renting price of the bikes for the weekend to target casual users into having a membership especially for docked bikes, since they are preferred more by causal users.\n",
    "Providing a special service or perks for only members might motivate casual users to have a membership. Services might include free ice cream or lemonade, free tour guide, or fast line for renting without any line etc."
   ]
  },
  {
   "cell_type": "code",
   "execution_count": null,
   "id": "31e00e79",
   "metadata": {},
   "outputs": [],
   "source": []
  }
 ],
 "metadata": {
  "kernelspec": {
   "display_name": "Python 3 (ipykernel)",
   "language": "python",
   "name": "python3"
  },
  "language_info": {
   "codemirror_mode": {
    "name": "ipython",
    "version": 3
   },
   "file_extension": ".py",
   "mimetype": "text/x-python",
   "name": "python",
   "nbconvert_exporter": "python",
   "pygments_lexer": "ipython3",
   "version": "3.9.7"
  }
 },
 "nbformat": 4,
 "nbformat_minor": 5
}
